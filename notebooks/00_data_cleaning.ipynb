{
 "cells": [
  {
   "cell_type": "code",
   "execution_count": 3,
   "id": "55969e69",
   "metadata": {},
   "outputs": [],
   "source": [
    "# 00_data_cleaning.ipynb\n",
    "# Libraries and loading cleaned dataset / Librerías y carga del conjunto limpio\n",
    "import pandas as pd\n",
    "import numpy as np\n",
    "import sys; from pathlib import Path \n",
    "sys.path.insert(0, str(Path.cwd().parent / \"src\"))\n",
    "import runpy, os, warnings\n",
    "from contextlib import redirect_stdout, redirect_stderr\n",
    "warnings.filterwarnings(\"ignore\")\n",
    "with open(os.devnull, \"w\") as devnull, redirect_stdout(devnull), redirect_stderr(devnull):\n",
    "    runpy.run_path(str(Path.cwd().parent / \"src\" / \"load_data.py\"), run_name=\"__main__\")"
   ]
  },
  {
   "cell_type": "code",
   "execution_count": 5,
   "id": "cf722542",
   "metadata": {},
   "outputs": [
    {
     "name": "stdout",
     "output_type": "stream",
     "text": [
      "- shape: (5885, 6)\n",
      "- dtypes:\n",
      "inventario_gei_año               int64\n",
      "inventario_gei_sector_crf       object\n",
      "inventario_gei_categoria_crf    object\n",
      "inventario_gei_actividad_crf    object\n",
      "inventario_gei_contaminante     object\n",
      "inventario_gei_gg_co2_eq        object\n",
      "dtype: object\n",
      "- head(1):\n",
      "   inventario_gei_año inventario_gei_sector_crf  \\\n",
      "0                1990             CRF 1 Energía   \n",
      "\n",
      "     inventario_gei_categoria_crf  \\\n",
      "0  1.A. Actividades de combustión   \n",
      "\n",
      "                        inventario_gei_actividad_crf  \\\n",
      "0  1A1a Producción de energía y calor en plantas ...   \n",
      "\n",
      "  inventario_gei_contaminante inventario_gei_gg_co2_eq  \n",
      "0                         N2O              0,015104735  \n"
     ]
    }
   ],
   "source": [
    "# 1.) Load and inspect Greenhouse Gas Emissions Inventory ∣ Cargar e inspeccionar Inventario Gases de Efecto invernadero (GEI)\n",
    "# https://datos.comunidad.madrid/dataset/atm_inventario_gei (Provides sectoral emissions data across the region since 1990.)\n",
    "# → Use to identify high-emission zones and quantify heating-related emissions for Pareto.\n",
    "\n",
    "from load_data import load_gei; df_gei = load_gei()\n",
    "print(f\"- shape: {df_gei.shape}\\n- dtypes:\\n{df_gei.dtypes}\\n- head(1):\\n{df_gei.head(1)}\")"
   ]
  },
  {
   "cell_type": "markdown",
   "id": "e133b286",
   "metadata": {},
   "source": [
    "### GEI Dataset Overview / Resumen del Inventario GEI\n",
    "\n",
    "- **Shape / Dimensiones**: `(5885, 6)`  \n",
    "- **Dtypes / Tipos de datos**:\n",
    "\n",
    "| Column name                     | Type    | Meaning (EN)                                      | Significado (ES)                                      |\n",
    "|--------------------------------|---------|--------------------------------------------------|--------------------------------------------------------|\n",
    "| `inventario_gei_año`           | int     | Reference Year                                  | Año de Referencia                              |\n",
    "| `inventario_gei_sector_crf`    | object  | CRF sector                                       | Sector CRF desde el que se emite el contaminante      |\n",
    "| `inventario_gei_categoria_crf` | object  | CRF category                                     | Categoría CRF desde la que se emite el contaminante   |\n",
    "| `inventario_gei_actividad_crf` | object  | CRF activity                                     | Actividad CRF desde la que se emite el contaminante   |\n",
    "| `inventario_gei_contaminante`  | object  | Greenhouse gas type                              | Tipo de gas de efecto invernadero                     |\n",
    "| `inventario_gei_gg_co2_eq`     | object  | Emissions in CO₂ equivalent (Gigagrams CO₂-eq)          | Emisiones en Gg equivalentes de CO₂                   |\n",
    "\n",
    "> **Note / Nota**:  \n",
    "> CRF (Common Reporting Format) is a standardized classification system defined by the UNFCCC  \n",
    "> to report greenhouse gas emissions consistently by sector, category, and activity.  \n",
    "> CRF (Formato Común de Reporte) es un sistema estandarizado definido por la CMNUCC  \n",
    "> para reportar emisiones de gases de efecto invernadero de forma coherente por sector, categoría y actividad.\n",
    "\n",
    "- **Head(1) / Primer registro**:\n",
    "\n",
    "| Año  | Sector CRF     | Categoría CRF                  | Actividad CRF                                               | Contaminante | GEI CO₂ eq   |\n",
    "|------|----------------|--------------------------------|--------------------------------------------------------------|--------------|--------------|\n",
    "| 1990 | CRF 1 Energía  | 1.A. Actividades de combustión | 1A1a Producción de energía y calor en plantas públicas       | N₂O          | 0.015104735  |"
   ]
  },
  {
   "cell_type": "code",
   "execution_count": null,
   "id": "fcbc31b2",
   "metadata": {},
   "outputs": [],
   "source": [
    "# 1.1) columns renaming / renombrado de columnas \n",
    "df_gei.rename(columns={\n",
    "    \"inventario_gei_año\": \"year\",                      # Año\n",
    "    \"inventario_gei_sector_crf\": \"sector_crf\",         # Sector CRF\n",
    "    \"inventario_gei_categoria_crf\": \"category_crf\",    # Categoría CRF\n",
    "    \"inventario_gei_actividad_crf\": \"activity_crf\",    # Actividad CRF\n",
    "    \"inventario_gei_contaminante\": \"pollutant\",        # Contaminante\n",
    "    \"inventario_gei_gg_co2_eq\": \"co2_eq\"               # GEI CO₂ equivalente\n",
    "}, inplace=True)"
   ]
  },
  {
   "cell_type": "code",
   "execution_count": 7,
   "id": "11ba3777",
   "metadata": {},
   "outputs": [],
   "source": [
    "# 1.2) change dtypes / cambio tipo de datos\n",
    "\n",
    "# Co2 numeric / numerico\n",
    "df_gei[\"co2_eq\"] = df_gei[\"co2_eq\"].str.replace(\",\", \".\", regex=False).astype(float)"
   ]
  },
  {
   "cell_type": "code",
   "execution_count": 8,
   "id": "c2ad3411",
   "metadata": {},
   "outputs": [
    {
     "name": "stdout",
     "output_type": "stream",
     "text": [
      "\n",
      "∑ Num cols: ['year', 'co2_eq'] | Nulls: {'year': 0, 'co2_eq': 0} | Dups: 276 | Uniques: {'year': 33, 'co2_eq': 5500}\n",
      "Ⅽ Cat cols: ['sector_crf', 'category_crf', 'activity_crf', 'pollutant'] | Nulls: {'sector_crf': 0, 'category_crf': 0, 'activity_crf': 0, 'pollutant': 0} | Dups: 5692 | Uniques: {'sector_crf': 5, 'category_crf': 27, 'activity_crf': 129, 'pollutant': 6}\n"
     ]
    }
   ],
   "source": [
    "# 1.3) Check for Nulls, Uniques and Duplicates in numerical and categorical columns / Revisar nulos, únicos y duplicados en columnas\n",
    "print(f\"\\n∑ Num cols: {df_gei.select_dtypes('number').columns.tolist()} | Nulls: {df_gei.select_dtypes('number').isnull().sum().to_dict()} | Dups: {df_gei.select_dtypes('number').duplicated().sum()} | Uniques: {df_gei.select_dtypes('number').nunique().to_dict()}\\nⅭ Cat cols: {df_gei.select_dtypes('object').columns.tolist()} | Nulls: {df_gei.select_dtypes('object').isnull().sum().to_dict()} | Dups: {df_gei.select_dtypes('object').duplicated().sum()} | Uniques: {df_gei.select_dtypes('object').nunique().to_dict()}\")"
   ]
  },
  {
   "cell_type": "markdown",
   "id": "f0c166c2",
   "metadata": {},
   "source": [
    "### GEI Dataset Diagnostics / Diagnóstico Data del Inventario GEI\n",
    "\n",
    "#### ∑ Numeric Columns / Columnas Numéricas\n",
    "- `year`: 33 unique years, no nulls → covers 1990–2022  \n",
    "- `co2_eq`: 5500 unique values, no nulls → high granularity in emissions  \n",
    "- Duplicates: 276 rows share identical year + co2_eq → likely same emissions across different CRF categories\n",
    "\n",
    "#### Ⅽ Categorical Columns / Columnas Categóricas\n",
    "- `sector_crf`: 5 unique sectors → compact CRF sector coverage  \n",
    "- `category_crf`: 27 unique categories → moderate granularity  \n",
    "- `activity_crf`: 129 unique activities → detailed CRF breakdown  \n",
    "- `pollutant`: 6 unique gases → CH₄, CO₂, N₂O, SF₆, HFC, PFC  \n",
    "- Duplicates: 5692 rows share identical categorical combinations → expected due to repeated structure across years\n",
    "\n",
    "#### Interpretation / Interpretación\n",
    "- No missing values → dataset is structurally complete  \n",
    "- High uniqueness in `co2_eq` → emissions vary significantly by activity  \n",
    "- CRF structure is dense → ideal for Pareto analysis and sectoral targeting  \n",
    "- Duplicate rows are not errors — they reflect repeated CRF structure across years and pollutants\n",
    "\n",
    "> CRF (Common Reporting Format) is a UNFCCC standard for reporting emissions by sector, category, and activity.  \n",
    "> CRF (Formato Común de Reporte) es un estándar de la CMNUCC para reportar emisiones por sector, categoría y actividad."
   ]
  },
  {
   "cell_type": "code",
   "execution_count": 9,
   "id": "a355db47",
   "metadata": {},
   "outputs": [
    {
     "data": {
      "text/plain": [
       "WindowsPath('C:/_Workspace/2_Work/1_Projects_Active/Low-Carbon-Heating-Roadmap-for-Madrid/data/clean/gei.csv')"
      ]
     },
     "execution_count": 9,
     "metadata": {},
     "output_type": "execute_result"
    }
   ],
   "source": [
    "# 1.4) No more cleaning, EDA ready / No hay necesidad de mas limpieza, lista para AED\n",
    "# save / guardar\n",
    "from load_data import save_clean\n",
    "save_clean(df_gei, \"gei.csv\")"
   ]
  }
 ],
 "metadata": {
  "kernelspec": {
   "display_name": "base",
   "language": "python",
   "name": "python3"
  },
  "language_info": {
   "codemirror_mode": {
    "name": "ipython",
    "version": 3
   },
   "file_extension": ".py",
   "mimetype": "text/x-python",
   "name": "python",
   "nbconvert_exporter": "python",
   "pygments_lexer": "ipython3",
   "version": "3.13.5"
  }
 },
 "nbformat": 4,
 "nbformat_minor": 5
}
